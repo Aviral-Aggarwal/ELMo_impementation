{
 "cells": [
  {
   "cell_type": "code",
   "execution_count": 1,
   "metadata": {},
   "outputs": [],
   "source": [
    "import torch.optim as optim"
   ]
  },
  {
   "cell_type": "code",
   "execution_count": 3,
   "metadata": {},
   "outputs": [
    {
     "ename": "ModuleNotFoundError",
     "evalue": "No module named 'torchnlp'",
     "output_type": "error",
     "traceback": [
      "\u001b[0;31m---------------------------------------------------------------------------\u001b[0m",
      "\u001b[0;31mModuleNotFoundError\u001b[0m                       Traceback (most recent call last)",
      "\u001b[0;32m<ipython-input-3-3a9989e78bd7>\u001b[0m in \u001b[0;36m<module>\u001b[0;34m\u001b[0m\n\u001b[1;32m      1\u001b[0m \u001b[0;32mimport\u001b[0m \u001b[0mtorch\u001b[0m\u001b[0;34m\u001b[0m\u001b[0;34m\u001b[0m\u001b[0m\n\u001b[0;32m----> 2\u001b[0;31m \u001b[0;32mfrom\u001b[0m \u001b[0mtorchnlp\u001b[0m\u001b[0;34m.\u001b[0m\u001b[0mdatasets\u001b[0m \u001b[0;32mimport\u001b[0m \u001b[0mimdb_dataset\u001b[0m\u001b[0;34m\u001b[0m\u001b[0;34m\u001b[0m\u001b[0m\n\u001b[0m\u001b[1;32m      3\u001b[0m \u001b[0;32mimport\u001b[0m \u001b[0mnumpy\u001b[0m \u001b[0;32mas\u001b[0m \u001b[0mnp\u001b[0m\u001b[0;34m\u001b[0m\u001b[0;34m\u001b[0m\u001b[0m\n\u001b[1;32m      4\u001b[0m \u001b[0;32mfrom\u001b[0m \u001b[0mstring\u001b[0m \u001b[0;32mimport\u001b[0m \u001b[0mpunctuation\u001b[0m\u001b[0;34m\u001b[0m\u001b[0;34m\u001b[0m\u001b[0m\n",
      "\u001b[0;31mModuleNotFoundError\u001b[0m: No module named 'torchnlp'"
     ]
    }
   ],
   "source": [
    "from torchnlp.datasets import imdb_dataset\n",
    "import numpy as np\n",
    "from string import punctuation"
   ]
  },
  {
   "cell_type": "code",
   "execution_count": null,
   "metadata": {},
   "outputs": [],
   "source": [
    "train = imdb_dataset(train = True)\n",
    "test = imdb_dataset(test = True)\n",
    "\n",
    "for i in range(25000):\n",
    "    train[i] = {\n",
    "        \"text\" : train[i][\"text\"].lower(),\n",
    "        \"sentiment\" : train[i][\"sentiment\"]\n",
    "    }\n",
    "\n",
    "for i in range(25000):\n",
    "    train[i][\"text\"] = ''.join([c for c in train[0][\"text\"] if c not in punctuation])\n",
    "for i in range(25000):\n",
    "    words = '\\n'.join(train[\"text\"]).split()"
   ]
  },
  {
   "cell_type": "code",
   "execution_count": null,
   "metadata": {},
   "outputs": [],
   "source": [
    "#final layer NN\n",
    "class Final_NN(nn.Module):\n",
    "    def __init__(self, hidden_dim, output_dim):\n",
    "        super(Final_NN, self).__init__()\n",
    "        self.hidden_dim = hidden_dim\n",
    "        self.output_dim = output_dim\n",
    "        self.output_layer = nn.LSTM(in_features=hidden_dim, out_features=output_dim)\n",
    "        self\n",
    "        \n",
    "    def forward(ELMO_embedding):\n",
    "        output,_ = self.output_layer(ELMO_embedding)\n",
    "        \n",
    "        return output([-1,:,:])     #output dimension = batch,2\n",
    "        \n",
    "model_NN = Final_NN()\n",
    "        "
   ]
  },
  {
   "cell_type": "code",
   "execution_count": null,
   "metadata": {},
   "outputs": [],
   "source": [
    "# training the model\n",
    "\n",
    "    lr = 0.03\n",
    "    criterion = nn.BCELoss()        #binary cross entorpy loss\n",
    "    optimizer_NN = optim.SGD(model_NN.parameters(),lr = lr)\n",
    "    optimizer_ELMo = optim.SGD(model_ELMo.paramters(), lr=lr)\n",
    "    \n",
    "    epochs = 5\n",
    "    clip = 5                        #gradient clipping\n",
    "    \n",
    "    for e in range(epochs):\n",
    "        \n",
    "        optimizer_NN.zero_grad()\n",
    "        optimizer_ELMo.zero_grad()\n",
    "        \n",
    "        output = model_NN(#inputs)\n",
    "        target = torch.randn(2, requires_grad = False)\n",
    "        target = target.view(1,-1)      #same shape as the output\n",
    "        loss = criterion(output, target)\n",
    "            \n",
    "        loss.backward()\n",
    "            \n",
    "        nn.utils.clip_grad_norm_(model_NN.parameters(), clip)\n",
    "        nn.utils.clip_grad_norm_(model_ELMo.parameters(), clip)            \n",
    "        optimizer_NN.step()\n",
    "        optimizer_ELMo.step()\n",
    "            \n",
    "        print(\"Loss in epoch %d is %.4f\", (e+1), loss)"
   ]
  }
 ],
 "metadata": {
  "kernelspec": {
   "display_name": "Python 3",
   "language": "python",
   "name": "python3"
  },
  "language_info": {
   "codemirror_mode": {
    "name": "ipython",
    "version": 3
   },
   "file_extension": ".py",
   "mimetype": "text/x-python",
   "name": "python",
   "nbconvert_exporter": "python",
   "pygments_lexer": "ipython3",
   "version": "3.7.3"
  }
 },
 "nbformat": 4,
 "nbformat_minor": 2
}
